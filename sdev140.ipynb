{
 "cells": [
  {
   "cell_type": "markdown",
   "metadata": {},
   "source": [
    "# Table of Contents\n",
    "\n",
    "- [Week One](#week-one)\n",
    "- [Week Two](#week-two)\n",
    "- [Week Three](#week-three)\n",
    "\n",
    "## Week One"
   ]
  },
  {
   "cell_type": "code",
   "execution_count": 5,
   "metadata": {},
   "outputs": [
    {
     "name": "stdout",
     "output_type": "stream",
     "text": [
      "First Name:  Ray\n",
      "My cash doubled:  11.1\n"
     ]
    },
    {
     "data": {
      "text/plain": [
       "1"
      ]
     },
     "execution_count": 5,
     "metadata": {},
     "output_type": "execute_result"
    }
   ],
   "source": [
    "\"\"\"\n",
    "Author: Ray Storer\n",
    "Assignment: assgignment name goes here\n",
    "Purpose: what does it do?\n",
    "\"\"\"\n",
    "\n",
    "num_boxes: int = 4\n",
    "first_name: str = 'Ray'\n",
    "my_cash: float = 5.55\n",
    "my_shoes: dict = {\n",
    "    'addidas': 'style name',\n",
    "    'puma': 'style name',\n",
    "    'nike': 'style name'\n",
    "}\n",
    "my_cats: tuple = ('chleo','belle')\n",
    "my_dogs: list = ['zoe', 'radar']\n",
    "\n",
    "first_name = input('Enter first name: ')\n",
    "print('First Name: ', first_name)\n",
    "my_cash = float(input('Enter cash: '))\n",
    "print('My cash doubled: ', (my_cash * 2)) # comment goes here\n",
    "\n",
    "# comment goes here\n",
    "2*2\n",
    "2/2\n",
    "(2+2)/2\n",
    "11 % 2\n",
    "\n",
    "\n",
    "\n"
   ]
  },
  {
   "cell_type": "markdown",
   "metadata": {},
   "source": [
    "## Week Two"
   ]
  },
  {
   "cell_type": "code",
   "execution_count": 7,
   "metadata": {},
   "outputs": [
    {
     "name": "stdout",
     "output_type": "stream",
     "text": [
      "Please enter a number.\n",
      "Sum: 6\n",
      "Average: 2.0\n"
     ]
    }
   ],
   "source": [
    "# sum.py\n",
    "# get numeric input, sum it, and average it\n",
    "\n",
    "counter: int = 0\n",
    "running_total: int = 0\n",
    "avg_input: float = 0.0\n",
    "\n",
    "# get integer input until input is blank\n",
    "while True:\n",
    "    entry: str = input('Enter a number (or [Enter] to quit):')\n",
    "    if entry == \"\":\n",
    "        break\n",
    "    else:\n",
    "        if entry.isnumeric():\n",
    "            counter += 1 # counter = counter + 1\n",
    "            running_total += int(entry) # running_total = running_total + int(entry)\n",
    "        else:\n",
    "            print('Please enter a number.')\n",
    "\n",
    "avg_input = running_total / counter\n",
    "print(f\"Sum: {running_total}\") # print('Sum:', running_total)\n",
    "print(f\"Average: {avg_input}\") # print('Average:', avg_input)\n",
    "\n",
    "\n"
   ]
  },
  {
   "cell_type": "code",
   "execution_count": 2,
   "metadata": {},
   "outputs": [
    {
     "name": "stdout",
     "output_type": "stream",
     "text": [
      "Month  Starting Balance  Interest to Pay  Principal to Pay  Payment  Ending Balance\n",
      "1            200.00              0.00      0.00\n"
     ]
    }
   ],
   "source": [
    "# 3.10 - tidbit.py\n",
    "\n",
    "'''\n",
    "Write a program in a file named tidbit.py that takes the purchase price as input.\n",
    "The program should display a table, with appropriate headers, of a payment schedule\n",
    "for the lifetime of the loan. Each row of the table should contain the following items:\n",
    "\n",
    "- the month number (beginning with 1)\n",
    "- the current total balance owed\n",
    "- the interest owed for that month\n",
    "- the amount of principal owed for that month\n",
    "- the payment for that month\n",
    "- the balance remaining after payment\n",
    "\n",
    "The amount of interest for a month is equal to balance \\\\* rate / 12.\n",
    "The amount of principal for a month is equal to the monthly payment minus the interest owed. \n",
    "'''\n",
    "\n",
    "DOWN_PAYMENT: float = 0.1\n",
    "ANNUAL_INTEREST_RATE: float = 0.12\n",
    "\n",
    "def monthly_interest_payment(current_balance: float) -> float:\n",
    "    \"\"\"Monthly payments are 5% of the listed purchase price, minus the down payment.\n",
    "\n",
    "    Args:\n",
    "        current_balance (float): current loan balance\n",
    "\n",
    "    Returns:\n",
    "        float: monthly interest amount in dollars\n",
    "    \"\"\"\n",
    "    INTEREST_RATE: float = 0.12\n",
    "    \n",
    "    return current_balance * (INTEREST_RATE/12)\n",
    "\n",
    "\n",
    "def monthly_payment(purchase_price: float) -> float:\n",
    "    \"\"\"calculate monthly payment\n",
    "\n",
    "    Args:\n",
    "        purchase_price (float): what did we pay for the item\n",
    "\n",
    "    Returns:\n",
    "        float: monthly payment in dollars\n",
    "    \"\"\"\n",
    "    MONTHLY_PMT_RATE: float = 0.05\n",
    "    return purchase_price * MONTHLY_PMT_RATE\n",
    "\n",
    "\n",
    "REPORT_HEADER: str = 'Month  Starting Balance  Interest to Pay  Principal to Pay  Payment  Ending Balance'\n",
    "purchase_price: float = 0.0\n",
    "purchase_entry: str = input('Enter the purchase price:')\n",
    "# test if purchase_entry is numeric\n",
    "down_pmt_entry: str = input('Enter the down payment:')\n",
    "# test if down_pmt_entry is numeric\n",
    "purchase_price = float(purchase_entry)\n",
    "down_pmt: float = float(down_pmt_entry)\n",
    "month_number: int = 0\n",
    "start_balance: float = purchase_price\n",
    "interest_to_pay: float = 0.0\n",
    "# ... other variables\n",
    "ending_balance: float = 0.0\n",
    "\n",
    "print(REPORT_HEADER)\n",
    "while True:\n",
    "    month_number += 1\n",
    "    print(month_number, end=\"\")\n",
    "    print(f\"{start_balance:18,.2f}\", end=\"\")\n",
    "    print(f\"{interest_to_pay:18,.2f}\", end=\"\")\n",
    "    #... other variables and calculations\n",
    "    print(f\"{ending_balance:10,.2f}\")\n",
    "    if ending_balance < 1.0: # adjust as needed to end the loop\n",
    "        break\n",
    "    if month_number == 3: # remove this ... it is for testing only\n",
    "        break\n",
    "\n",
    "\n"
   ]
  },
  {
   "cell_type": "code",
   "execution_count": 3,
   "metadata": {},
   "outputs": [
    {
     "name": "stdout",
     "output_type": "stream",
     "text": [
      "Purple\n"
     ]
    }
   ],
   "source": [
    "# Programming Assignment - Part 1\n",
    "# ask for two colors and return the secondary color\n",
    "\n",
    "COLOR_RED: str = 'red'\n",
    "COLOR_BLUE: str = 'blue'\n",
    "COLOR_YELLOW: str = 'yellow'\n",
    "ERROR_MSG: str = 'Enter only red, blue, or yellow.'\n",
    "ERROR_MSG2: str = 'Enter only red, blue, or yellow and not the same as entry one.'\n",
    "\n",
    "colors: list = ('red','blue','yellow')\n",
    "\n",
    "entry1 = input('Enter red, blue, or yellow:')\n",
    "if entry1 not in colors:\n",
    "    print(ERROR_MSG)\n",
    "else:\n",
    "    entry2 = input('Enter red, blue, or yellow:')\n",
    "    if entry2 == entry1 or entry2 not in colors:\n",
    "        print(ERROR_MSG2)\n",
    "    else:\n",
    "        if (entry1 == colors[0] and entry2 == colors[1]) or (\n",
    "            entry1 == colors[1] and entry2 == colors[0]):\n",
    "            print('Purple')\n",
    "        elif (entry1 == colors[0] and entry2 == colors[2]) or (\n",
    "            entry1 == colors[2] and entry2 == colors[0]):\n",
    "            print('Orange')\n",
    "        elif () or ():\n",
    "            print()\n",
    "# do the rest of this assignment        "
   ]
  },
  {
   "cell_type": "code",
   "execution_count": 4,
   "metadata": {},
   "outputs": [
    {
     "name": "stdout",
     "output_type": "stream",
     "text": [
      "!6 = 720\n"
     ]
    }
   ],
   "source": [
    "# Programming Assignment - Part 2\n",
    "# factorials - as for the non-negative number and return the factorial\n",
    "\n",
    "factorial: int = 1\n",
    "entry: str = input('Enter a positive integer:')\n",
    "# insert test if a number\n",
    "my_number: int = int(entry)\n",
    "if my_number > 0:\n",
    "    for i in range(1, my_number+1):\n",
    "        factorial *= i\n",
    "    \n",
    "    print(f\"!{my_number} = {factorial:,}\")"
   ]
  },
  {
   "cell_type": "markdown",
   "metadata": {},
   "source": [
    "## Week Three\n",
    "\n",
    "- Read chapter four in the text\n",
    "- Strings, substrings, and subscripts\n",
    "- File input and output\n",
    "- Data encryption, decryption, keys, ciphers, plaintext\n",
    "- Debugging\n",
    "- Assignments\n",
    "  - Module 3 Discussion: Software engineering tools\n",
    "  - Module 3 Quiz\n",
    "  - Module 3 Practice Exercise - Debugging\n",
    "  - Module 3 Programming Assignment\n",
    "  - Module 3 Project Status Report 1"
   ]
  },
  {
   "cell_type": "code",
   "execution_count": null,
   "metadata": {},
   "outputs": [],
   "source": [
    "\"\"\" Assignment Part I:\n",
    "\n",
    "Write a program that asks the user to enter a series of single-digit numbers with nothing separating them.\n",
    "The program should display the sum of all the single-digit numbers in the string. For example, if the user enters 2514,\n",
    "the method should return 12, which is the sum of 2, 5, 1, and 4. (15 points)\n",
    "\"\"\"\n",
    "\n",
    "entry: str = input('Enter a list of number without spaces:')\n",
    "# do error checking for valid numbers\n",
    "\n",
    "sum: int = 0\n",
    "for num in entry:\n",
    "    sum += int(num)\n",
    "\n",
    "print(sum)\n"
   ]
  },
  {
   "cell_type": "code",
   "execution_count": null,
   "metadata": {},
   "outputs": [],
   "source": [
    "\"\"\"\n",
    "Assignment Part II:\n",
    "\n",
    "Write a program that writes a series of random numbers to a file and displays all the numbers to the console.\n",
    "Each random number should be in the range of 1 through 500. The application should let the user specify how many\n",
    "random numbers the file will hold. (15 points)\n",
    "\"\"\"\n",
    "\n",
    "import random\n",
    "\n",
    "how_many: str = input('How many numbers')\n",
    "output_file = open('output.txt','wt')\n",
    "# convert to int\n",
    "for i in range(int(how_many)+1):\n",
    "    rand_num: int = random.randint(1, 500)\n",
    "    # write the number to a file\n",
    "    output_file.write(str(rand_num)+\"\\r\\n\")\n",
    "    # print the number to the console\n",
    "    print(rand_num)"
   ]
  },
  {
   "cell_type": "markdown",
   "metadata": {},
   "source": [
    "### Module 5 - Functions"
   ]
  },
  {
   "cell_type": "code",
   "execution_count": 5,
   "metadata": {},
   "outputs": [
    {
     "name": "stdout",
     "output_type": "stream",
     "text": [
      "local 5\n",
      "global 5\n"
     ]
    }
   ],
   "source": [
    "# Global Variable Scoping\n",
    "my_var: int = 0\n",
    "\n",
    "def my_func() -> int:\n",
    "    global my_var\n",
    "    local_my_var: int = 5\n",
    "    print(local_my_var)\n",
    "    my_var = 5\n",
    "    print(\"local\", my_var)\n",
    "\n",
    "if __name__ == \"__main__\":\n",
    "    my_func()\n",
    "    print(\"global\", my_var)\n"
   ]
  }
 ],
 "metadata": {
  "kernelspec": {
   "display_name": "Python 3",
   "language": "python",
   "name": "python3"
  },
  "language_info": {
   "codemirror_mode": {
    "name": "ipython",
    "version": 3
   },
   "file_extension": ".py",
   "mimetype": "text/x-python",
   "name": "python",
   "nbconvert_exporter": "python",
   "pygments_lexer": "ipython3",
   "version": "3.13.1"
  }
 },
 "nbformat": 4,
 "nbformat_minor": 2
}
