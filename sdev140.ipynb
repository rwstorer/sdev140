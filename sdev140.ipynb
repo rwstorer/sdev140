{
 "cells": [
  {
   "cell_type": "markdown",
   "metadata": {},
   "source": [
    "# Table of Contents\n",
    "\n",
    "[Week One](#week-one)\n",
    "[Week Two](#week-two)\n",
    "\n",
    "# Week One"
   ]
  },
  {
   "cell_type": "markdown",
   "metadata": {},
   "source": [
    "# Week Two"
   ]
  },
  {
   "cell_type": "code",
   "execution_count": 7,
   "metadata": {},
   "outputs": [
    {
     "name": "stdout",
     "output_type": "stream",
     "text": [
      "Please enter a number.\n",
      "Sum: 6\n",
      "Average: 2.0\n"
     ]
    }
   ],
   "source": [
    "# sum.py\n",
    "# get numeric input, sum it, and average it\n",
    "\n",
    "counter: int = 0\n",
    "running_total: int = 0\n",
    "avg_input: float = 0.0\n",
    "\n",
    "# get integer input until input is blank\n",
    "while True:\n",
    "    entry: str = input('Enter a number (or [Enter] to quit):')\n",
    "    if entry == \"\":\n",
    "        break\n",
    "    else:\n",
    "        if entry.isnumeric():\n",
    "            counter += 1 # counter = counter + 1\n",
    "            running_total += int(entry) # running_total = running_total + int(entry)\n",
    "        else:\n",
    "            print('Please enter a number.')\n",
    "\n",
    "avg_input = running_total / counter\n",
    "print(f\"Sum: {running_total}\") # print('Sum:', running_total)\n",
    "print(f\"Average: {avg_input}\") # print('Average:', avg_input)\n",
    "\n",
    "\n"
   ]
  },
  {
   "cell_type": "code",
   "execution_count": 10,
   "metadata": {},
   "outputs": [
    {
     "name": "stderr",
     "output_type": "stream",
     "text": [
      "<>:3: SyntaxWarning: invalid escape sequence '\\*'\n",
      "<>:3: SyntaxWarning: invalid escape sequence '\\*'\n",
      "C:\\Users\\rwsto\\AppData\\Local\\Temp\\ipykernel_35228\\3687524696.py:3: SyntaxWarning: invalid escape sequence '\\*'\n",
      "  '''\n"
     ]
    },
    {
     "name": "stdout",
     "output_type": "stream",
     "text": [
      "Month  Starting Balance  Interest to Pay  Principal to Pay  Payment  Ending Balance\n",
      "1\n",
      "test\n"
     ]
    }
   ],
   "source": [
    "# 3.10 - tidbit.py\n",
    "\n",
    "'''\n",
    "Write a program in a file named tidbit.py that takes the purchase price as input.\n",
    "The program should display a table, with appropriate headers, of a payment schedule\n",
    "for the lifetime of the loan. Each row of the table should contain the following items:\n",
    "\n",
    "- the month number (beginning with 1)\n",
    "- the current total balance owed\n",
    "- the interest owed for that month\n",
    "- the amount of principal owed for that month\n",
    "- the payment for that month\n",
    "- the balance remaining after payment\n",
    "\n",
    "The amount of interest for a month is equal to balance \\* rate / 12.\n",
    "The amount of principal for a month is equal to the monthly payment minus the interest owed. \n",
    "'''\n",
    "\n",
    "DOWN_PAYMENT: float = 0.1\n",
    "ANNUAL_INTEREST_RATE: float = 0.12\n",
    "\n",
    "def monthly_interest_payment(current_balance: float) -> float:\n",
    "    \"\"\"Monthly payments are 5% of the listed purchase price, minus the down payment.\n",
    "\n",
    "    Args:\n",
    "        current_balance (float): current loan balance\n",
    "\n",
    "    Returns:\n",
    "        float: monthly interest amount in dollars\n",
    "    \"\"\"\n",
    "    INTEREST_RATE: float = 0.12\n",
    "    \n",
    "    return current_balance * (INTEREST_RATE/12)\n",
    "\n",
    "\n",
    "def monthly_payment(purchase_price: float) -> float:\n",
    "    \"\"\"calculate monthly payment\n",
    "\n",
    "    Args:\n",
    "        purchase_price (float): what did we pay for the item\n",
    "\n",
    "    Returns:\n",
    "        float: monthly payment in dollars\n",
    "    \"\"\"\n",
    "    MONTHLY_PMT_RATE: float = 0.05\n",
    "    return purchase_price * MONTHLY_PMT_RATE\n",
    "\n",
    "\n",
    "REPORT_HEADER: str = 'Month  Starting Balance  Interest to Pay  Principal to Pay  Payment  Ending Balance'\n",
    "purchase_price: float = 0.0\n",
    "purchase_entry: str = input('Enter the purchase price:')\n",
    "# test if puchase_entry is numeric\n",
    "down_pmt_entry: str = input('Enter the down payment:')\n",
    "# test if down_pmt_entry is numeric\n",
    "purchase_price = float(purchase_entry)\n",
    "down_pmt: float = float(down_pmt_entry)\n",
    "month_number: int = 0\n",
    "start_balance: float = purchase_price\n",
    "interest_to_pay: float = 0.0\n",
    "# ... other variables\n",
    "ending_balance: float = 0.0\n",
    "\n",
    "print(REPORT_HEADER)\n",
    "while True:\n",
    "    month_number += 1\n",
    "    print(month_number, end=\"\")\n",
    "    print(f\"{start_balance:18,.2f}\", end=\"\")\n",
    "    print(f\"{interest_to_pay:18,.2f}\", end=\"\")\n",
    "    #... other variables\n",
    "    print(f\"{ending_balance:10,.2f}\")\n",
    "    if ending_balance < 1.0:\n",
    "        break\n",
    "\n",
    "\n"
   ]
  },
  {
   "cell_type": "code",
   "execution_count": null,
   "metadata": {},
   "outputs": [],
   "source": [
    "# Programming Assignment - Part 1\n",
    "# ask for two colors and return the secondary color\n",
    "\n",
    "COLOR_RED: str = 'red'\n",
    "COLOR_BLUE: str = 'blue'\n",
    "COLOR_YELLOW: str = 'yellow'\n",
    "ERROR_MSG: str = 'Enter only red, blue, or yellow.'\n",
    "ERROR_MSG2: str = 'Enter only red, blue, or yellow and not the same as entry one.'\n",
    "\n",
    "colors: list = ('red','blue','yellow')\n",
    "\n",
    "entry1 = input('Enter red, blue, or yellow:')\n",
    "if entry1 not in colors:\n",
    "    print(ERROR_MSG)\n",
    "else:\n",
    "    entry2 = input('Enter red, blue, or yellow:')\n",
    "    if entry2 == entry1 or entry2 not in colors:\n",
    "        print(ERROR_MSG2)\n",
    "    else:\n",
    "        if (entry1 == colors[0] and entry2 == colors[1]) or (\n",
    "            entry1 == colors[1] and entry2 == colors[0]):\n",
    "            print('Purple')\n",
    "        elif (entry1 == colors[0] and entry2 == colors[2]) or (\n",
    "            entry1 == colors[2] and entry2 == colors[0]):\n",
    "            print('Orange')\n",
    "        elif () or ():\n",
    "            print()\n",
    "# do the rest of this assignment        "
   ]
  },
  {
   "cell_type": "code",
   "execution_count": 2,
   "metadata": {},
   "outputs": [
    {
     "name": "stdout",
     "output_type": "stream",
     "text": [
      "!7 = 5,040\n"
     ]
    }
   ],
   "source": [
    "# Programming Assignment - Part 2\n",
    "# factorials - as for the non-negative number and return the factorial\n",
    "\n",
    "factorial: int = 1\n",
    "entry: str = input('Enter a positive integer:')\n",
    "# insert test if a number\n",
    "my_number: int = int(entry)\n",
    "if my_number > 0:\n",
    "    for i in range(1, my_number+1):\n",
    "        factorial *= i\n",
    "    \n",
    "    print(f\"!{my_number} = {factorial:,}\")"
   ]
  }
 ],
 "metadata": {
  "kernelspec": {
   "display_name": "Python 3",
   "language": "python",
   "name": "python3"
  },
  "language_info": {
   "codemirror_mode": {
    "name": "ipython",
    "version": 3
   },
   "file_extension": ".py",
   "mimetype": "text/x-python",
   "name": "python",
   "nbconvert_exporter": "python",
   "pygments_lexer": "ipython3",
   "version": "3.12.0"
  }
 },
 "nbformat": 4,
 "nbformat_minor": 2
}
